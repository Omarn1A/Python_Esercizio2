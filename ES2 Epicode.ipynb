{
 "cells": [
  {
   "cell_type": "code",
   "execution_count": 1,
   "id": "b3cfc68f-db61-4576-8150-b1117e102839",
   "metadata": {},
   "outputs": [
    {
     "name": "stdout",
     "output_type": "stream",
     "text": [
      "E\n",
      "p\n",
      "i\n",
      "c\n",
      "o\n",
      "d\n",
      "e\n"
     ]
    }
   ],
   "source": [
    "nome_scuola = \"Epicode\"\n",
    "lunghezza = len(nome_scuola)\n",
    "indice = 0\n",
    "\n",
    "while indice < lunghezza:\n",
    "    print(nome_scuola[indice])\n",
    "    indice += 1"
   ]
  },
  {
   "cell_type": "code",
   "execution_count": 2,
   "id": "2c08403c-34fd-4e32-91dd-92aef4cc98a9",
   "metadata": {},
   "outputs": [
    {
     "name": "stdout",
     "output_type": "stream",
     "text": [
      "1\n",
      "2\n",
      "3\n",
      "4\n",
      "5\n",
      "6\n",
      "7\n",
      "8\n",
      "9\n",
      "10\n",
      "11\n",
      "12\n",
      "13\n",
      "14\n",
      "15\n",
      "16\n",
      "17\n",
      "18\n",
      "19\n",
      "20\n"
     ]
    }
   ],
   "source": [
    "variabile = 0\n",
    "while variabile < 20:\n",
    "    variabile +=1\n",
    "    print(variabile)"
   ]
  },
  {
   "cell_type": "code",
   "execution_count": 3,
   "id": "2ffaada4-8eb9-4d61-a670-8fd227e77231",
   "metadata": {},
   "outputs": [
    {
     "name": "stdout",
     "output_type": "stream",
     "text": [
      "2^0 = 1\n",
      "2^1 = 2\n",
      "2^2 = 4\n",
      "2^3 = 8\n",
      "2^4 = 16\n",
      "2^5 = 32\n",
      "2^6 = 64\n",
      "2^7 = 128\n",
      "2^8 = 256\n",
      "2^9 = 512\n"
     ]
    }
   ],
   "source": [
    "potenza = 0\n",
    "contatore = 0\n",
    "\n",
    "while contatore < 10:\n",
    "    risultato = 2 ** potenza\n",
    "    print(f\"2^{potenza} = {risultato}\")\n",
    "    potenza += 1\n",
    "    contatore += 1"
   ]
  },
  {
   "cell_type": "code",
   "execution_count": 4,
   "id": "78533223-3cc3-44ee-95f6-62c5c0c19b6e",
   "metadata": {},
   "outputs": [
    {
     "name": "stdin",
     "output_type": "stream",
     "text": [
      "Inserisci un numero N per calcolare le prime N potenze di 2:  5\n"
     ]
    },
    {
     "name": "stdout",
     "output_type": "stream",
     "text": [
      "2^0 = 1\n",
      "2^1 = 2\n",
      "2^2 = 4\n",
      "2^3 = 8\n",
      "2^4 = 16\n"
     ]
    }
   ],
   "source": [
    "N = int(input(\"Inserisci un numero N per calcolare le prime N potenze di 2: \"))\n",
    "\n",
    "potenza = 0\n",
    "contatore = 0\n",
    "\n",
    "while contatore < N:\n",
    "    risultato = 2 ** potenza\n",
    "    print(f\"2^{potenza} = {risultato}\")\n",
    "    potenza += 1\n",
    "    contatore += 1"
   ]
  },
  {
   "cell_type": "code",
   "execution_count": 5,
   "id": "dd571a16-c223-47c6-a485-bdf89b69ed42",
   "metadata": {},
   "outputs": [
    {
     "name": "stdout",
     "output_type": "stream",
     "text": [
      "2^0 = 1\n",
      "2^1 = 2\n",
      "2^2 = 4\n",
      "2^3 = 8\n",
      "2^4 = 16\n",
      "2^5 = 32\n",
      "2^6 = 64\n",
      "2^7 = 128\n",
      "2^8 = 256\n",
      "2^9 = 512\n",
      "2^10 = 1024\n",
      "2^11 = 2048\n",
      "2^12 = 4096\n",
      "2^13 = 8192\n",
      "2^14 = 16384\n"
     ]
    }
   ],
   "source": [
    "potenza = 0\n",
    "risultato = 2 ** potenza\n",
    "\n",
    "while risultato < 25000:\n",
    "    print(f\"2^{potenza} = {risultato}\")\n",
    "    potenza += 1\n",
    "    risultato = 2 ** potenza"
   ]
  },
  {
   "cell_type": "code",
   "execution_count": 6,
   "id": "a99605f5-87c8-43d0-9680-7416fa371cc1",
   "metadata": {},
   "outputs": [
    {
     "name": "stdout",
     "output_type": "stream",
     "text": [
      "Il corso Data Analyst è già presente per un altro studente.\n",
      "Il corso Backend è già presente per un altro studente.\n",
      "Il corso Frontend è già presente per un altro studente.\n",
      "Il corso Cybersecurity è già presente per un altro studente.\n",
      "Errore: Le liste studenti e corsi non sono della stessa lunghezza.\n"
     ]
    }
   ],
   "source": [
    "studenti = [\"Alex\", \"Bob\", \"Cindy\", \"Dan\", \"Emma\", \"Faith\", \"Grace\", \"Henry\"]\n",
    "corsi = [\"Cybersecurity\", \"Data Analyst\", \"Backend\", \"Frontend\", \"Data Analyst\", \"Backend\"]\n",
    "\n",
    "# Funzione per aggiungere un corso per uno\n",
    "def aggiungi_corso(studente, corso):\n",
    "    if studente not in studenti:\n",
    "        print(f\"Errore: Lo studente {studente} non è presente nella lista degli studenti.\")\n",
    "    elif corso in corsi:\n",
    "        print(f\"Il corso {corso} è già presente per un altro studente.\")\n",
    "    else:\n",
    "        corsi.append(corso)\n",
    "\n",
    "# Aggiungiamo i dati mancanti uno alla volta\n",
    "aggiungi_corso(\"Emma\", \"Data Analyst\")\n",
    "aggiungi_corso(\"Faith\", \"Backend\")\n",
    "aggiungi_corso(\"Grace\", \"Frontend\")\n",
    "aggiungi_corso(\"Henry\", \"Cybersecurity\")\n",
    "\n",
    "# Verifichiamo che le liste siano della stessa lunghezza\n",
    "if len(studenti) == len(corsi):\n",
    "    print(\"Le liste studenti e corsi sono della stessa lunghezza.\")\n",
    "    print(\"Lista corsi:\")\n",
    "    print(corsi)\n",
    "else:\n",
    "    print(\"Errore: Le liste studenti e corsi non sono della stessa lunghezza.\")"
   ]
  },
  {
   "cell_type": "code",
   "execution_count": 7,
   "id": "d8bd5164-acbf-4dc5-9d76-85bfa803093a",
   "metadata": {},
   "outputs": [
    {
     "name": "stdin",
     "output_type": "stream",
     "text": [
      "Inserisci una stringa:  Ciao\n"
     ]
    },
    {
     "name": "stdout",
     "output_type": "stream",
     "text": [
      "Risultato: Ciao\n"
     ]
    }
   ],
   "source": [
    "stringa = input(\"Inserisci una stringa: \")\n",
    "\n",
    "lunghezza = len(stringa)\n",
    "\n",
    "if lunghezza < 3:\n",
    "    print(\"La stringa è troppo corta.\")\n",
    "elif lunghezza <= 6:\n",
    "    print(\"Risultato:\", stringa)\n",
    "else:\n",
    "    primi_3 = stringa[:3]\n",
    "    ultimi_3 = stringa[-3:]\n",
    "    print(\"Risultato:\", primi_3 + \"...\" + ultimi_3)"
   ]
  },
  {
   "cell_type": "code",
   "execution_count": 9,
   "id": "3f4aa1fa-cf42-4c14-81fd-47a7e671ea65",
   "metadata": {},
   "outputs": [
    {
     "name": "stdin",
     "output_type": "stream",
     "text": [
      "Inserisci un numero:  1\n"
     ]
    },
    {
     "name": "stdout",
     "output_type": "stream",
     "text": [
      "I fattori di 1 sono: []\n"
     ]
    }
   ],
   "source": [
    "numero = int(input(\"Inserisci un numero: \"))\n",
    "fattori = []\n",
    "\n",
    "if numero <= 1:\n",
    "    print(\"I fattori di\", numero, \"sono:\", fattori)\n",
    "else:\n",
    "    divisore = 2\n",
    "    while numero > 1:\n",
    "        if numero % divisore == 0:\n",
    "            fattori.append(divisore)\n",
    "            numero /= divisore\n",
    "        else:\n",
    "            divisore += 1\n",
    "\n",
    "    print(\"I fattori di\", numero, \"sono:\", fattori)"
   ]
  },
  {
   "cell_type": "code",
   "execution_count": 10,
   "id": "05618258-ad02-42c4-bcb7-d67ca08a59ae",
   "metadata": {},
   "outputs": [
    {
     "name": "stdout",
     "output_type": "stream",
     "text": [
      "E\n",
      "p\n",
      "i\n",
      "c\n",
      "o\n",
      "d\n",
      "e\n"
     ]
    }
   ],
   "source": [
    "nome_scuola = \"Epicode\"\n",
    "\n",
    "for carattere in nome_scuola:\n",
    "    print(carattere)"
   ]
  },
  {
   "cell_type": "code",
   "execution_count": 11,
   "id": "22e0d2ac-8cec-490d-9a94-4e34a773bbd0",
   "metadata": {},
   "outputs": [
    {
     "name": "stdin",
     "output_type": "stream",
     "text": [
      "Inserisci il valore di K:  2\n",
      "Inserisci il numero di potenze:  3\n"
     ]
    },
    {
     "name": "stdout",
     "output_type": "stream",
     "text": [
      "Lista delle prime 3 potenze di 2 : [1, 2, 4]\n"
     ]
    }
   ],
   "source": [
    "K = int(input(\"Inserisci il valore di K: \"))\n",
    "N = int(input(\"Inserisci il numero di potenze: \"))\n",
    "\n",
    "potenze = []\n",
    "potenza = 0\n",
    "\n",
    "while len(potenze) < N:\n",
    "    risultato = K ** potenza\n",
    "    potenze.append(risultato)\n",
    "    potenza += 1\n",
    "\n",
    "print(\"Lista delle prime\", N, \"potenze di\", K, \":\", potenze)"
   ]
  },
  {
   "cell_type": "code",
   "execution_count": 12,
   "id": "8ab2f323-020e-4ffb-a627-c56a3c25c91f",
   "metadata": {},
   "outputs": [
    {
     "name": "stdin",
     "output_type": "stream",
     "text": [
      "Inserisci il valore di K:  1\n",
      "Inserisci il numero di potenze:  5\n"
     ]
    },
    {
     "name": "stdout",
     "output_type": "stream",
     "text": [
      "Lista delle prime 5 potenze di 1 : [1, 1, 1, 1, 1]\n"
     ]
    }
   ],
   "source": [
    "K = int(input(\"Inserisci il valore di K: \"))\n",
    "N = int(input(\"Inserisci il numero di potenze: \"))\n",
    "\n",
    "potenze = []\n",
    "\n",
    "for potenza in range(N):\n",
    "    risultato = K ** potenza\n",
    "    potenze.append(risultato)\n",
    "\n",
    "print(\"Lista delle prime\", N, \"potenze di\", K, \":\", potenze)"
   ]
  },
  {
   "cell_type": "code",
   "execution_count": 13,
   "id": "333adc83-c987-4e0f-8b16-8ca040d77a0c",
   "metadata": {},
   "outputs": [
    {
     "name": "stdout",
     "output_type": "stream",
     "text": [
      "La media dei guadagni degli ultimi 12 mesi è: 70.0\n"
     ]
    }
   ],
   "source": [
    "guadagni = [100, 90, 70, 40, 50, 80, 90, 120, 80, 20, 50, 50]\n",
    "\n",
    "totale_guadagni = 0\n",
    "numero_mesi = len(guadagni)\n",
    "\n",
    "for guadagno in guadagni:\n",
    "    totale_guadagni += guadagno\n",
    "\n",
    "media_guadagni = totale_guadagni / numero_mesi\n",
    "\n",
    "print(\"La media dei guadagni degli ultimi 12 mesi è:\", media_guadagni)"
   ]
  },
  {
   "cell_type": "code",
   "execution_count": 14,
   "id": "27d5aa29-30f2-4800-865c-fe98a171b0bd",
   "metadata": {},
   "outputs": [
    {
     "name": "stdout",
     "output_type": "stream",
     "text": [
      "La parola 'Albergo' contiene 1 volte la lettera 'e'.\n",
      "La parola 'Sedia' contiene 1 volte la lettera 'e'.\n",
      "La parola 'Borgo' contiene 0 volte la lettera 'e'.\n",
      "La parola 'Petalo' contiene 1 volte la lettera 'e'.\n",
      "La parola 'Eremo' contiene 2 volte la lettera 'e'.\n",
      "La parola 'Belvedere' contiene 4 volte la lettera 'e'.\n",
      "La parola 'Semestre' contiene 3 volte la lettera 'e'.\n",
      "La parola 'Esteta' contiene 2 volte la lettera 'e'.\n",
      "La parola 'Sosta' contiene 0 volte la lettera 'e'.\n",
      "La parola 'Orpello' contiene 1 volte la lettera 'e'.\n",
      "La parola 'Abete' contiene 2 volte la lettera 'e'.\n",
      "La parola 'Orologio' contiene 0 volte la lettera 'e'.\n",
      "La parola 'Cesta' contiene 1 volte la lettera 'e'.\n",
      "La parola 'Ermellino' contiene 2 volte la lettera 'e'.\n"
     ]
    }
   ],
   "source": [
    "parole = [\"Albergo\", \"Sedia\", \"Borgo\", \"Petalo\", \"Eremo\", \"Belvedere\", \"Semestre\", \"Esteta\", \"Sosta\", \"Orpello\", \"Abete\", \"Orologio\", \"Cesta\", \"Ermellino\"]\n",
    "\n",
    "for parola in parole:\n",
    "    conteggio_e = parola.lower().count(\"e\")\n",
    "    print(f\"La parola '{parola}' contiene {conteggio_e} volte la lettera 'e'.\")"
   ]
  },
  {
   "cell_type": "code",
   "execution_count": 15,
   "id": "559378a9-c31f-48ac-a1ef-b23d94e22a1a",
   "metadata": {},
   "outputs": [
    {
     "name": "stdout",
     "output_type": "stream",
     "text": [
      "Dizionario proprietari_auto:\n",
      "{'Ada': 'Punto', 'Ben': 'Multipla', 'Charlie': 'Golf', 'Debbie': '107'}\n",
      "L'auto di Debbie è: 107\n"
     ]
    }
   ],
   "source": [
    "proprietari_auto = {\n",
    "    \"Ada\": \"Punto\",\n",
    "    \"Ben\": \"Multipla\",\n",
    "    \"Charlie\": \"Golf\",\n",
    "    \"Debbie\": \"107\"\n",
    "}\n",
    "\n",
    "# Stampiamo il dizionario completo\n",
    "print(\"Dizionario proprietari_auto:\")\n",
    "print(proprietari_auto)\n",
    "\n",
    "# Stampiamo l'auto associata a Debbie\n",
    "auto_debbie = proprietari_auto[\"Debbie\"]\n",
    "print(\"L'auto di Debbie è:\", auto_debbie)"
   ]
  },
  {
   "cell_type": "code",
   "execution_count": 16,
   "id": "32103f57-aed6-4b1a-8b3a-3d94834b8f17",
   "metadata": {},
   "outputs": [
    {
     "name": "stdout",
     "output_type": "stream",
     "text": [
      "Punto\n",
      "Golf\n",
      "107\n"
     ]
    }
   ],
   "source": [
    "dizionario_auto = {\"Ada\": \"Punto\", \"Ben\": \"Multipla\", \"Charlie\": \"Golf\", \"Debbie\": \"107\"}\n",
    "\n",
    "for auto in dizionario_auto.values():\n",
    "    if auto != \"Multipla\":\n",
    "        print(auto)"
   ]
  },
  {
   "cell_type": "code",
   "execution_count": 17,
   "id": "24f1ff8b-100f-46bc-bdb0-b57e968512d4",
   "metadata": {},
   "outputs": [
    {
     "name": "stdout",
     "output_type": "stream",
     "text": [
      "Dizionario aggiornato dizionario_auto:\n",
      "{'Ada': 'Punto', 'Ben': 'Polo', 'Charlie': 'Golf', 'Debbie': '107', 'Emily': 'A1', 'Fred': 'Octavia', 'Grace': 'Yaris', 'Hugh': 'Clio'}\n",
      "Ben ha ora l'auto: Polo\n"
     ]
    }
   ],
   "source": [
    "dizionario_auto = {\"Ada\": \"Punto\", \"Ben\": \"Multipla\", \"Charlie\": \"Golf\", \"Debbie\": \"107\", \"Emily\": \"A1\"}\n",
    "nuovi_proprietari = {\"Ben\": \"Polo\", \"Fred\": \"Octavia\", \"Grace\": \"Yaris\", \"Hugh\": \"Clio\"}\n",
    "\n",
    "dizionario_auto.update(nuovi_proprietari)\n",
    "\n",
    "print(\"Dizionario aggiornato dizionario_auto:\")\n",
    "print(dizionario_auto)\n",
    "\n",
    "print(\"Ben ha ora l'auto:\", dizionario_auto[\"Ben\"])"
   ]
  },
  {
   "cell_type": "code",
   "execution_count": 18,
   "id": "e98b1dcc-aaf6-4a61-8018-d1c5497043f7",
   "metadata": {},
   "outputs": [
    {
     "name": "stdout",
     "output_type": "stream",
     "text": [
      "Il minimo è: 3\n",
      "Il massimo è: 22\n"
     ]
    }
   ],
   "source": [
    "def trova_minimo_massimo(lista_numeri):\n",
    "    if not lista_numeri:\n",
    "        return None, None\n",
    "\n",
    "    minimo = massimo = lista_numeri[0]\n",
    "\n",
    "    for numero in lista_numeri:\n",
    "        if numero < minimo:\n",
    "            minimo = numero\n",
    "        elif numero > massimo:\n",
    "            massimo = numero\n",
    "\n",
    "    return minimo, massimo\n",
    "\n",
    "# Esempio di lista di numeri\n",
    "numeri = [10, 5, 7, 22, 3, 18, 12, 15]\n",
    "\n",
    "minimo, massimo = trova_minimo_massimo(numeri)\n",
    "\n",
    "if minimo is not None and massimo is not None:\n",
    "    print(\"Il minimo è:\", minimo)\n",
    "    print(\"Il massimo è:\", massimo)\n",
    "else:\n",
    "    print(\"La lista è vuota.\")"
   ]
  },
  {
   "cell_type": "code",
   "execution_count": 19,
   "id": "827e3dee-d020-442b-8c27-1de0111b6d32",
   "metadata": {},
   "outputs": [
    {
     "name": "stdout",
     "output_type": "stream",
     "text": [
      "I tre numeri più grandi sono: [22, 18, 15]\n"
     ]
    }
   ],
   "source": [
    "def tre_numeri_piu_grandi(lista_numeri):\n",
    "    if len(lista_numeri) < 3:\n",
    "        return \"La lista ha meno di tre numeri.\"\n",
    "\n",
    "    numeri_unici = list(set(lista_numeri))  # Rimuovi duplicati\n",
    "    numeri_unici.sort(reverse=True)  # Ordina in ordine decrescente\n",
    "\n",
    "    tre_numeri = numeri_unici[:3]\n",
    "\n",
    "    return tre_numeri\n",
    "\n",
    "# Esempio di lista di numeri\n",
    "numeri = [10, 5, 7, 22, 3, 18, 12, 15, 22, 18]\n",
    "\n",
    "tre_numeri_grandi = tre_numeri_piu_grandi(numeri)\n",
    "\n",
    "if isinstance(tre_numeri_grandi, list):\n",
    "    print(\"I tre numeri più grandi sono:\", tre_numeri_grandi)\n",
    "else:\n",
    "    print(tre_numeri_grandi)"
   ]
  },
  {
   "cell_type": "code",
   "execution_count": 20,
   "id": "e0c5d85e-cb7f-43e5-aa0f-4ed446bc1f0e",
   "metadata": {},
   "outputs": [
    {
     "name": "stdin",
     "output_type": "stream",
     "text": [
      "Inserisci una lista di numeri separati da spazi:  1 5 6 7\n",
      "Inserisci un numero K:  2\n"
     ]
    },
    {
     "name": "stdout",
     "output_type": "stream",
     "text": [
      "La media dei numeri maggiori o uguali a 2.0 è: 6.00\n"
     ]
    }
   ],
   "source": [
    "def media_numeri_maggiori(lista_numeri, K):\n",
    "    numeri_maggiori = [numero for numero in lista_numeri if numero >= K]\n",
    "\n",
    "    if not numeri_maggiori:\n",
    "        return \"Non ci sono numeri maggiori o uguali a {}\".format(K)\n",
    "\n",
    "    media = sum(numeri_maggiori) / len(numeri_maggiori)\n",
    "    return media\n",
    "\n",
    "# Input della lista di numeri\n",
    "numeri_input = input(\"Inserisci una lista di numeri separati da spazi: \").split()\n",
    "numeri = [float(numero) for numero in numeri_input]\n",
    "\n",
    "# Input del numero K\n",
    "K = float(input(\"Inserisci un numero K: \"))\n",
    "\n",
    "media = media_numeri_maggiori(numeri, K)\n",
    "\n",
    "if isinstance(media, str):\n",
    "    print(media)\n",
    "else:\n",
    "    print(\"La media dei numeri maggiori o uguali a {} è: {:.2f}\".format(K, media))"
   ]
  },
  {
   "cell_type": "code",
   "execution_count": 21,
   "id": "631a93c1-dc4a-406d-99dc-db057de3b4db",
   "metadata": {},
   "outputs": [
    {
     "name": "stdout",
     "output_type": "stream",
     "text": [
      "*****\n",
      "**\n",
      "***\n",
      "****\n"
     ]
    }
   ],
   "source": [
    "numeri = [5, 2, 3, 4]\n",
    "\n",
    "for numero in numeri:\n",
    "    print('*' * numero)"
   ]
  },
  {
   "cell_type": "code",
   "execution_count": 22,
   "id": "21602a7a-58fa-4c59-94e7-b749d598ee96",
   "metadata": {},
   "outputs": [
    {
     "name": "stdout",
     "output_type": "stream",
     "text": [
      "Codici fiscali che contengono '95':\n",
      "['ABCDEF95G01A123B', 'STUVWX95Z04A654E', 'DEFGHI95J06A987G']\n",
      "\n",
      "Dettagli per ogni codice:\n",
      "Codice fiscale: ABCDEF95G01A123B\n",
      "Caratteri nome: ABCDEF\n",
      "Caratteri cognome: G01A12\n",
      "\n",
      "Codice fiscale: STUVWX95Z04A654E\n",
      "Caratteri nome: STUVWX\n",
      "Caratteri cognome: Z04A65\n",
      "\n",
      "Codice fiscale: DEFGHI95J06A987G\n",
      "Caratteri nome: DEFGHI\n",
      "Caratteri cognome: J06A98\n",
      "\n"
     ]
    }
   ],
   "source": [
    "lista_cf = [\"ABCDEF95G01A123B\", \"GHIJKL91M02A321C\", \"MNOPQR89S03A456D\", \"STUVWX95Z04A654E\", \"XYZABC01D05A789F\", \"DEFGHI95J06A987G\"]\n",
    "\n",
    "codici_con_95 = []\n",
    "\n",
    "for cf in lista_cf:\n",
    "    if \"95\" in cf:\n",
    "        codici_con_95.append(cf)\n",
    "\n",
    "print(\"Codici fiscali che contengono '95':\")\n",
    "print(codici_con_95)\n",
    "\n",
    "print(\"\\nDettagli per ogni codice:\")\n",
    "for codice in codici_con_95:\n",
    "    posizione_95 = codice.index(\"95\")\n",
    "    caratteri_nome = codice[posizione_95 - 6:posizione_95]\n",
    "    caratteri_cognome = codice[posizione_95 + 2:posizione_95 + 8]\n",
    "    print(\"Codice fiscale:\", codice)\n",
    "    print(\"Caratteri nome:\", caratteri_nome)\n",
    "    print(\"Caratteri cognome:\", caratteri_cognome)\n",
    "    print()"
   ]
  },
  {
   "cell_type": "code",
   "execution_count": 23,
   "id": "bc253ad3-16c1-4ded-8794-4c9e7f30296c",
   "metadata": {},
   "outputs": [
    {
     "name": "stdout",
     "output_type": "stream",
     "text": [
      "Studenti che frequentano una prima edizione:\n",
      "Studente: Alex\n",
      "Corso: Cybersecurity\n",
      "Edizione: 1\n",
      "\n",
      "Studente: Faith\n",
      "Corso: Backend\n",
      "Edizione: 1\n",
      "\n"
     ]
    }
   ],
   "source": [
    "studenti = [\"Alex\", \"Bob\", \"Cindy\", \"Dan\", \"Emma\", \"Faith\", \"Grace\", \"Henry\"]\n",
    "corsi = [\"Cybersecurity\", \"Data Analyst\", \"Backend\", \"Frontend\", \"Data Analyst\", \"Backend\", \"Frontend\", \"Cybersecurity\"]\n",
    "edizioni = [1, 2, 3, 2, 2, 1, 3, 3]\n",
    "\n",
    "print(\"Studenti che frequentano una prima edizione:\")\n",
    "\n",
    "for i in range(len(studenti)):\n",
    "    if edizioni[i] == 1:\n",
    "        print(\"Studente:\", studenti[i])\n",
    "        print(\"Corso:\", corsi[i])\n",
    "        print(\"Edizione:\", edizioni[i])\n",
    "        print()"
   ]
  },
  {
   "cell_type": "code",
   "execution_count": 24,
   "id": "84e1727d-a4b2-45f1-aea3-8fcf4d7ad950",
   "metadata": {},
   "outputs": [
    {
     "name": "stdout",
     "output_type": "stream",
     "text": [
      "Prezzi in dollari:\n",
      "['100 $', '200 $', '500 $', '10 $', '50 $', '70 $']\n"
     ]
    }
   ],
   "source": [
    "prezzi = [\"100 €\", \"200 €\", \"500 €\", \"10 €\", \"50 €\", \"70 €\"]\n",
    "\n",
    "prezzi_dollari = []\n",
    "\n",
    "for prezzo in prezzi:\n",
    "    prezzo_dollari = prezzo.replace(\"€\", \"$\")\n",
    "    prezzi_dollari.append(prezzo_dollari)\n",
    "\n",
    "print(\"Prezzi in dollari:\")\n",
    "print(prezzi_dollari)"
   ]
  },
  {
   "cell_type": "code",
   "execution_count": 25,
   "id": "abd02ce9-7d92-4b3c-af4c-88f7fa97459c",
   "metadata": {},
   "outputs": [
    {
     "name": "stdout",
     "output_type": "stream",
     "text": [
      "Squadra con posizione pari:\n",
      "['Alex', 'Cindy', 'Emma', 'Grace', 'Isabelle']\n",
      "\n",
      "Squadra con posizione dispari:\n",
      "['Bob', 'Dan', 'Faith', 'Henry', 'John']\n"
     ]
    }
   ],
   "source": [
    "studenti = [\"Alex\", \"Bob\", \"Cindy\", \"Dan\", \"Emma\", \"Faith\", \"Grace\", \"Henry\", \"Isabelle\", \"John\"]\n",
    "\n",
    "squadra_pari = []\n",
    "squadra_dispari = []\n",
    "\n",
    "for i in range(len(studenti)):\n",
    "    if i % 2 == 0:\n",
    "        squadra_pari.append(studenti[i])\n",
    "    else:\n",
    "        squadra_dispari.append(studenti[i])\n",
    "\n",
    "print(\"Squadra con posizione pari:\")\n",
    "print(squadra_pari)\n",
    "\n",
    "print(\"\\nSquadra con posizione dispari:\")\n",
    "print(squadra_dispari)"
   ]
  },
  {
   "cell_type": "code",
   "execution_count": 26,
   "id": "74a62387-02a4-499b-b42c-dc66b8772a9e",
   "metadata": {},
   "outputs": [
    {
     "name": "stdout",
     "output_type": "stream",
     "text": [
      "Guadagno di 1 ° mese: 100\n",
      "Media dei guadagni precedenti: 0\n",
      "Il guadagno attuale è maggiore della media dei precedenti.\n",
      "\n",
      "Guadagno di 2 ° mese: 90\n",
      "Media dei guadagni precedenti: 100.0\n",
      "Il guadagno attuale è minore della media dei precedenti.\n",
      "\n",
      "Guadagno di 3 ° mese: 70\n",
      "Media dei guadagni precedenti: 95.0\n",
      "Il guadagno attuale è minore della media dei precedenti.\n",
      "\n",
      "Guadagno di 4 ° mese: 40\n",
      "Media dei guadagni precedenti: 86.66666666666667\n",
      "Il guadagno attuale è minore della media dei precedenti.\n",
      "\n",
      "Guadagno di 5 ° mese: 50\n",
      "Media dei guadagni precedenti: 75.0\n",
      "Il guadagno attuale è minore della media dei precedenti.\n",
      "\n",
      "Guadagno di 6 ° mese: 80\n",
      "Media dei guadagni precedenti: 70.0\n",
      "Il guadagno attuale è maggiore della media dei precedenti.\n",
      "\n",
      "Guadagno di 7 ° mese: 90\n",
      "Media dei guadagni precedenti: 71.66666666666667\n",
      "Il guadagno attuale è maggiore della media dei precedenti.\n",
      "\n",
      "Guadagno di 8 ° mese: 120\n",
      "Media dei guadagni precedenti: 74.28571428571429\n",
      "Il guadagno attuale è maggiore della media dei precedenti.\n",
      "\n",
      "Guadagno di 9 ° mese: 80\n",
      "Media dei guadagni precedenti: 80.0\n",
      "Il guadagno attuale è minore della media dei precedenti.\n",
      "\n",
      "Guadagno di 10 ° mese: 20\n",
      "Media dei guadagni precedenti: 80.0\n",
      "Il guadagno attuale è minore della media dei precedenti.\n",
      "\n",
      "Guadagno di 11 ° mese: 50\n",
      "Media dei guadagni precedenti: 74.0\n",
      "Il guadagno attuale è minore della media dei precedenti.\n",
      "\n",
      "Guadagno di 12 ° mese: 50\n",
      "Media dei guadagni precedenti: 71.81818181818181\n",
      "Il guadagno attuale è minore della media dei precedenti.\n",
      "\n"
     ]
    }
   ],
   "source": [
    "guadagni = [100, 90, 70, 40, 50, 80, 90, 120, 80, 20, 50, 50]\n",
    "\n",
    "for i in range(len(guadagni)):\n",
    "    guadagno_attuale = guadagni[i]\n",
    "    \n",
    "    if i == 0:\n",
    "        media_precedenti = 0\n",
    "    else:\n",
    "        media_precedenti = sum(guadagni[:i]) / i\n",
    "\n",
    "    confronto = \"maggiore\" if guadagno_attuale > media_precedenti else \"minore\"\n",
    "    \n",
    "    print(\"Guadagno di\", i+1, \"° mese:\", guadagno_attuale)\n",
    "    print(\"Media dei guadagni precedenti:\", media_precedenti)\n",
    "    print(\"Il guadagno attuale è\", confronto, \"della media dei precedenti.\\n\")"
   ]
  }
 ],
 "metadata": {
  "kernelspec": {
   "display_name": "Python 3 (ipykernel)",
   "language": "python",
   "name": "python3"
  },
  "language_info": {
   "codemirror_mode": {
    "name": "ipython",
    "version": 3
   },
   "file_extension": ".py",
   "mimetype": "text/x-python",
   "name": "python",
   "nbconvert_exporter": "python",
   "pygments_lexer": "ipython3",
   "version": "3.11.7"
  }
 },
 "nbformat": 4,
 "nbformat_minor": 5
}
